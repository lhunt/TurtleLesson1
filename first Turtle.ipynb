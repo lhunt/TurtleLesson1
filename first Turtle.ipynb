{
 "cells": [
  {
   "cell_type": "markdown",
   "metadata": {},
   "source": [
    "You can run this code as it is then make the modifications below"
   ]
  },
  {
   "cell_type": "code",
   "execution_count": 4,
   "metadata": {
    "collapsed": false
   },
   "outputs": [],
   "source": [
    "from turtle import *\n",
    "wn = Screen()        #Create a screen for my turtle to move around in\n",
    "wn.bgcolor(\"light blue\")       #Make the background color of the screen red\n",
    "wn.clearscreen()\n",
    "wn.title(\"My awesome creation!\")\n",
    "bob = Turtle()         #Create a turtle named bob\n",
    "bob.color(\"dark blue\")\n",
    "bob.shape(\"turtle\")\n",
    "bob.forward(150)           #Move bob forward 150 pixels\n",
    "bob.left(90)                    #Turn bob left 90 degrees\n",
    "bob.forward(250)           #Move bob forward 100 pixels\n",
    "shelly = Turtle()     #another turtle but named shelly\n",
    "shelly.color(\"magenta\")\n",
    "shelly.pensize(20)\n",
    "shelly.goto(-100,0)\n",
    "shelly.left(45)\n",
    "shelly.forward(350)\n",
    "shelly.write(\"hello bob, nice to meet you\")\n",
    "\n",
    "#Note: these last two lines just ensure that the turtle window closes properly!\n",
    "exitonclick()\n",
    "TurtleScreen._RUNNING = True"
   ]
  },
  {
   "cell_type": "markdown",
   "metadata": {},
   "source": [
    "Add to the code to make a rectangular shape on the screen. Once you have made the changes to the code hit Shift Enter to run!"
   ]
  },
  {
   "cell_type": "code",
   "execution_count": null,
   "metadata": {
    "collapsed": true
   },
   "outputs": [],
   "source": [
    "import turtle\n",
    "\n",
    "wn = turtle.Screen()        #Create a screen for my turtle to move around in\n",
    "wn.bgcolor(\"light blue\")       #Make the background color of the screen red\n",
    "wn.clearscreen()\n",
    "wn.title(\"My awesome creation!\")\n",
    "bob = turtle.Turtle()         #Create a turtle named bob\n",
    "bob.color(\"dark blue\")\n",
    "bob.shape(\"turtle\")\n",
    "bob.forward(150)           #Move bob forward 150 pixels\n",
    "bob.left(90)                    #Turn bob left 90 degrees\n",
    "\n",
    "turtle.exitonclick()\n",
    "turtle.TurtleScreen._RUNNING = True"
   ]
  },
  {
   "cell_type": "markdown",
   "metadata": {},
   "source": [
    "Create another turtle (with a different name) and make your new turtle move too\n",
    "\n",
    "Play around with the commands forward, left, etc. and make a variety of shapes with your turtles.\n"
   ]
  },
  {
   "cell_type": "code",
   "execution_count": null,
   "metadata": {
    "collapsed": true
   },
   "outputs": [],
   "source": [
    "import turtle\n",
    "\n",
    "wn = turtle.Screen()        #Create a screen for my turtle to move around in\n",
    "wn.bgcolor(\"light blue\")       #Make the background color of the screen red\n",
    "wn.clearscreen()\n",
    "wn.title(\"My awesome creation!\")\n",
    "bob = turtle.Turtle()         #Create a turtle named bob\n",
    "bob.color(\"dark blue\")\n",
    "bob.shape(\"turtle\")\n",
    "\n",
    "#add your new turtle here!\n",
    "\n",
    "\n",
    "# add your commands to make the turtles move here\n",
    "\n",
    "turtle.exitonclick()\n",
    "turtle.TurtleScreen._RUNNING = True"
   ]
  },
  {
   "cell_type": "markdown",
   "metadata": {},
   "source": [
    "Go to  https://docs.python.org/3.0/library/turtle.html which will give you\n",
    "a whole bunch of information about turtles!!  Play around with some of the\n",
    "methods you see and make a picture of your own.  \n",
    "\n",
    "Formal Definitions:  \n",
    "You just learned about objects (bob and alice),  methods (forward, left), and parameters (150, 90, 100, etc)\n",
    "objects call on methods which take a parameter and perform something. For example, my turtle object bob\n",
    "called on the method forward with a parameter of 150.  This made bob move forward 150 steps!"
   ]
  },
  {
   "cell_type": "code",
   "execution_count": null,
   "metadata": {
    "collapsed": true
   },
   "outputs": [],
   "source": [
    "import turtle\n",
    "wn = turtle.Screen()\n",
    "#add your code here\n",
    "\n",
    "\n",
    "turtle.exitonclick()\n",
    "turtle.TurtleScreen._RUNNING = True"
   ]
  },
  {
   "cell_type": "code",
   "execution_count": null,
   "metadata": {
    "collapsed": true
   },
   "outputs": [],
   "source": []
  }
 ],
 "metadata": {
  "kernelspec": {
   "display_name": "Python 3",
   "language": "python",
   "name": "python3"
  },
  "language_info": {
   "codemirror_mode": {
    "name": "ipython",
    "version": 3
   },
   "file_extension": ".py",
   "mimetype": "text/x-python",
   "name": "python",
   "nbconvert_exporter": "python",
   "pygments_lexer": "ipython3",
   "version": "3.6.0"
  }
 },
 "nbformat": 4,
 "nbformat_minor": 2
}
